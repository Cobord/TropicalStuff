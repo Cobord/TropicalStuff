{
 "cells": [
  {
   "cell_type": "code",
   "execution_count": 17,
   "metadata": {},
   "outputs": [],
   "source": [
    "import numpy as np\n",
    "\n",
    "def tropicalPlus(x,y,minPlus=True):\n",
    "    if minPlus:\n",
    "        return min(x,y)\n",
    "    else:\n",
    "        return max(x,y)\n",
    "\n",
    "def tropicalDot(v1,v2,minPlus=True):\n",
    "    returnVal=v1+v2\n",
    "    if minPlus:\n",
    "        return min(returnVal)\n",
    "    else:\n",
    "        return max(returnVal)\n",
    "\n",
    "def tropicalMultiply(A,B,minPlus=True):\n",
    "    (i,j)=A.shape\n",
    "    (k,l)=B.shape\n",
    "    if (j != k):\n",
    "        raise ValueError('Dimension Mismatch %i and %i should be equal' % (j,k))\n",
    "    C = np.zeros((i,l))\n",
    "    for x in range(i):\n",
    "        for y in range(l):\n",
    "            C[x,y]=tropicalDot(A[x],B[:,y],minPlus)\n",
    "    return C\n",
    "\n",
    "def tropicalPower(A,n,minPlus=True):\n",
    "    returnValue=A\n",
    "    for i in range(n-1):\n",
    "        returnValue=tropicalMultiply(returnValue,A,minPlus)\n",
    "    return returnValue\n",
    "\n",
    "def tropicalAdd(A,B,minPlus=True):\n",
    "    (i,j)=A.shape\n",
    "    (k,l)=B.shape\n",
    "    if (i != k or j != l):\n",
    "        raise ValueError('Dimension Mismatch (%i,%i) and (%i,%i) should be equal' % (i,j,k,l))\n",
    "    C = np.zeros((i,j))\n",
    "    for x in range(i):\n",
    "        for y in range(j):\n",
    "            C[x,y]=tropicalPlus(A[x,y],B[x,y],minPlus)\n",
    "    return C\n",
    "\n",
    "def tropicalCommute(A,B,minPlus=True):\n",
    "    return (tropicalMultiply(A,B,minPlus)==tropicalMultiply(B,A,minPlus))\n",
    "\n",
    "def isAMetric(D):\n",
    "    (i,j)=D.shape\n",
    "    if (i != j):\n",
    "        raise ValueError('Dimension Mismatch: Should be square. %i and %i are not equal.' % (i,j))\n",
    "    if (min(D.flatten())<0):\n",
    "        return False\n",
    "    diag=D.diagonal()\n",
    "    if (diag != np.zeros(i)):\n",
    "        return False\n",
    "    Dtemp=D+np.identity(i)\n",
    "    if (min(Dtemp.flatten())==0):\n",
    "        return False\n",
    "    symmetric = (D == D.transpose())\n",
    "    if (not symmetric):\n",
    "        return False\n",
    "    triangleInequality = (tropicalMultiply(A,A)==A)\n",
    "    return triangleInequality\n",
    "\n",
    "def kleeneStar(A,minPlus=True):\n",
    "    (i,j)=A.shape\n",
    "    if (i != j):\n",
    "        raise ValueError('Dimension Mismatch: Should be square. %i and %i are not equal.' % (i,j))\n",
    "    returnValue=A\n",
    "    for i in range(i-1):\n",
    "        returnValue=tropicalAdd(returnValue,tropicalPower(A,i+2,minPlus),minPlus)\n",
    "    return returnValue\n",
    "#def neighborJoin(A):\n",
    "# return the resulting tree"
   ]
  },
  {
   "cell_type": "code",
   "execution_count": 19,
   "metadata": {},
   "outputs": [
    {
     "name": "stdout",
     "output_type": "stream",
     "text": [
      "[[1. 2.]\n",
      " [2. 3.]\n",
      " [7. 8.]]\n",
      "[[ 4.  5.]\n",
      " [ 5.  6.]\n",
      " [10. 11.]]\n",
      "[[1. 2.]\n",
      " [3. 4.]]\n"
     ]
    }
   ],
   "source": [
    "A = np.array([[1,2],[3,4]])\n",
    "B = np.array([[0,1],[1,2],[6,7]])\n",
    "print(tropicalMultiply(B,A))\n",
    "print(tropicalMultiply(B,A,False))\n",
    "print(kleeneStar(A))"
   ]
  },
  {
   "cell_type": "code",
   "execution_count": null,
   "metadata": {
    "collapsed": true
   },
   "outputs": [],
   "source": []
  }
 ],
 "metadata": {
  "kernelspec": {
   "display_name": "Python 3",
   "language": "python",
   "name": "python3"
  },
  "language_info": {
   "codemirror_mode": {
    "name": "ipython",
    "version": 3
   },
   "file_extension": ".py",
   "mimetype": "text/x-python",
   "name": "python",
   "nbconvert_exporter": "python",
   "pygments_lexer": "ipython3",
   "version": "3.6.4"
  }
 },
 "nbformat": 4,
 "nbformat_minor": 2
}
