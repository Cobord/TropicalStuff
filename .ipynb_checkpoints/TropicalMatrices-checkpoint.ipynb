{
 "cells": [
  {
   "cell_type": "code",
   "execution_count": 18,
   "metadata": {
    "collapsed": true
   },
   "outputs": [],
   "source": [
    "import numpy as np\n",
    "\n",
    "def tropicalDot(v1,v2,minPlus):\n",
    "    returnVal=v1+v2\n",
    "    if minPlus:\n",
    "        return min(returnVal)\n",
    "    else:\n",
    "        return max(returnVal)\n",
    "\n",
    "def tropicalMultiply(A,B,minPlus=True):\n",
    "    (i,j)=A.shape\n",
    "    (k,l)=B.shape\n",
    "    if (j != k):\n",
    "        raise ValueError('Dimension Mismatch %i and %i should be equal' % (j,k))\n",
    "    C = np.zeros((i,l))\n",
    "    for x in range(i):\n",
    "        for y in range(l):\n",
    "            C[x,y]=tropicalDot(A[x],B[:,y],minPlus)\n",
    "    return C\n",
    "\n",
    "def tropicalCommute(A,B,minPlus=True):\n",
    "    return (tropicalMultiply(A,B,minPlus)==tropicalMultiply(B,A,minPlus))\n",
    "\n",
    "def isAMetric(D):\n",
    "    (i,j)=D.shape\n",
    "    if (i != j):\n",
    "        raise ValueError('Dimension Mismatch: Should be square. %i and %i are not equal.' % (i,j))\n",
    "    if (min(D.flatten())<0):\n",
    "        return False\n",
    "    diag=D.diagonal()\n",
    "    if (diag != np.zeros(i)):\n",
    "        return False\n",
    "    Dtemp=D+np.identity(i)\n",
    "    if (min(Dtemp.flatten())==0):\n",
    "        return False\n",
    "    symmetric = (D == D.transpose())\n",
    "    if (! symmetric):\n",
    "        return False\n",
    "    triangleInequality = (tropicalMultiply(A,A)==A)\n",
    "    return triangleInequality\n",
    "\n",
    "#def neighborJoin(A):\n",
    "# return the resulting tree"
   ]
  },
  {
   "cell_type": "code",
   "execution_count": 33,
   "metadata": {
    "collapsed": false
   },
   "outputs": [
    {
     "name": "stdout",
     "output_type": "stream",
     "text": [
      "[[ 1.  2.]\n",
      " [ 2.  3.]\n",
      " [ 7.  8.]]\n",
      "[[  4.   5.]\n",
      " [  5.   6.]\n",
      " [ 10.  11.]]\n"
     ]
    }
   ],
   "source": [
    "A = np.array([[1,2],[3,4]])\n",
    "B = np.array([[0,1],[1,2],[6,7]])\n",
    "print(tropicalMultiply(B,A))\n",
    "print(tropicalMultiply(B,A,False))"
   ]
  },
  {
   "cell_type": "code",
   "execution_count": null,
   "metadata": {
    "collapsed": true
   },
   "outputs": [],
   "source": []
  }
 ],
 "metadata": {
  "kernelspec": {
   "display_name": "Python 3",
   "language": "python",
   "name": "python3"
  },
  "language_info": {
   "codemirror_mode": {
    "name": "ipython",
    "version": 3
   },
   "file_extension": ".py",
   "mimetype": "text/x-python",
   "name": "python",
   "nbconvert_exporter": "python",
   "pygments_lexer": "ipython3",
   "version": "3.6.0"
  }
 },
 "nbformat": 4,
 "nbformat_minor": 2
}
